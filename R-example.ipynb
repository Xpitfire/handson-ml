{
 "cells": [
  {
   "cell_type": "code",
   "execution_count": 2,
   "metadata": {},
   "outputs": [
    {
     "name": "stderr",
     "output_type": "stream",
     "text": [
      "Updating HTML index of packages in '.Library'\n",
      "Making 'packages.html' ... done\n"
     ]
    }
   ],
   "source": [
    "install.packages('animation')"
   ]
  },
  {
   "cell_type": "code",
   "execution_count": 3,
   "metadata": {},
   "outputs": [
    {
     "name": "stderr",
     "output_type": "stream",
     "text": [
      "Executing: \n",
      "convert -loop 0 -delay 10 Rplot1.png Rplot2.png Rplot3.png Rplot4.png\n",
      "    Rplot5.png Rplot6.png Rplot7.png Rplot8.png Rplot9.png Rplot10.png\n",
      "    Rplot11.png Rplot12.png Rplot13.png Rplot14.png Rplot15.png\n",
      "    Rplot16.png Rplot17.png Rplot18.png Rplot19.png Rplot20.png\n",
      "    Rplot21.png Rplot22.png Rplot23.png Rplot24.png Rplot25.png\n",
      "    Rplot26.png Rplot27.png Rplot28.png Rplot29.png Rplot30.png\n",
      "    Rplot31.png Rplot32.png Rplot33.png Rplot34.png Rplot35.png\n",
      "    Rplot36.png Rplot37.png Rplot38.png Rplot39.png Rplot40.png\n",
      "    Rplot41.png Rplot42.png Rplot43.png Rplot44.png Rplot45.png\n",
      "    Rplot46.png Rplot47.png Rplot48.png Rplot49.png Rplot50.png\n",
      "    Rplot51.png Rplot52.png Rplot53.png Rplot54.png Rplot55.png\n",
      "    Rplot56.png Rplot57.png Rplot58.png Rplot59.png Rplot60.png\n",
      "    Rplot61.png Rplot62.png Rplot63.png Rplot64.png Rplot65.png\n",
      "    Rplot66.png Rplot67.png Rplot68.png Rplot69.png Rplot70.png\n",
      "    Rplot71.png Rplot72.png Rplot73.png Rplot74.png Rplot75.png\n",
      "    Rplot76.png Rplot77.png Rplot78.png Rplot79.png Rplot80.png\n",
      "    Rplot81.png Rplot82.png Rplot83.png Rplot84.png Rplot85.png\n",
      "    Rplot86.png Rplot87.png Rplot88.png Rplot89.png Rplot90.png\n",
      "    Rplot91.png Rplot92.png Rplot93.png Rplot94.png Rplot95.png\n",
      "    Rplot96.png Rplot97.png Rplot98.png Rplot99.png Rplot100.png\n",
      "    'animation.gif'\n",
      "Output at: animation.gif\n"
     ]
    },
    {
     "data": {
      "text/html": [
       "TRUE"
      ],
      "text/latex": [
       "TRUE"
      ],
      "text/markdown": [
       "TRUE"
      ],
      "text/plain": [
       "[1] TRUE"
      ]
     },
     "metadata": {},
     "output_type": "display_data"
    }
   ],
   "source": [
    "library(animation)\n",
    "\n",
    "saveGIF({\n",
    "  for(i in 1:100){\n",
    "    x <- seq(0 + (i * 0.05), 3 + (i * 0.05), length= 100)\n",
    "    y <- x\n",
    "    f <- function(x, y) { sin(x * y) }\n",
    "    z <- outer(x, y, f)\n",
    "    persp(x, y, z, theta = 45, phi = 35, expand = 0.4, col = \"orange\")\n",
    "  }\n",
    "}, interval = 0.1, ani.width = 550, ani.height = 550)"
   ]
  },
  {
   "cell_type": "markdown",
   "metadata": {},
   "source": [
    "![image](animation.gif)"
   ]
  },
  {
   "cell_type": "code",
   "execution_count": null,
   "metadata": {
    "collapsed": true
   },
   "outputs": [],
   "source": []
  }
 ],
 "metadata": {
  "kernelspec": {
   "display_name": "R",
   "language": "R",
   "name": "ir"
  },
  "language_info": {
   "codemirror_mode": "r",
   "file_extension": ".r",
   "mimetype": "text/x-r-source",
   "name": "R",
   "pygments_lexer": "r",
   "version": "3.3.2"
  }
 },
 "nbformat": 4,
 "nbformat_minor": 2
}
