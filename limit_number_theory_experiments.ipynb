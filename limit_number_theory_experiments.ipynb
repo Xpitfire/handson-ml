{
 "cells": [
  {
   "cell_type": "code",
   "execution_count": 1,
   "metadata": {
    "collapsed": true
   },
   "outputs": [],
   "source": [
    "import numpy as np"
   ]
  },
  {
   "cell_type": "markdown",
   "metadata": {},
   "source": []
  },
  {
   "cell_type": "code",
   "execution_count": 209,
   "metadata": {},
   "outputs": [],
   "source": [
    "def d_func(n):\n",
    "    sum = 0.\n",
    "    for i in range(n):\n",
    "        sum += np.power((1./np.pi + 1./np.e), np.power(2., i))\n",
    "    return sum"
   ]
  },
  {
   "cell_type": "code",
   "execution_count": null,
   "metadata": {
    "collapsed": true
   },
   "outputs": [],
   "source": []
  },
  {
   "cell_type": "code",
   "execution_count": 210,
   "metadata": {
    "collapsed": true
   },
   "outputs": [],
   "source": [
    "def m_func(n):\n",
    "    sum = 0.\n",
    "    for i in range(n):\n",
    "        sum += np.power((1./2.), np.power(2., i))\n",
    "    return sum"
   ]
  },
  {
   "cell_type": "code",
   "execution_count": 212,
   "metadata": {},
   "outputs": [
    {
     "name": "stdout",
     "output_type": "stream",
     "text": [
      "d = 1.43032535690696027686\n",
      "m = 0.81642150902189314365\n",
      "\n",
      "2 * d = 2.86065071381392055372\n",
      "2 * m = 1.63284301804378628731\n",
      "d + m = 2.24674686592885342051\n",
      "d - m = 0.61390384788506713321\n",
      "d * m = 1.16774838627825849890\n",
      "d / m = 1.75194472597929151725\n",
      "m / d = 0.57079426375225739143\n",
      "\n",
      "d * pi = 4.49349963350210490631\n",
      "d * e = 3.88802742646438836971\n",
      "m * pi = 2.56486381497587245804\n",
      "m * e = 2.21926375233732464665\n"
     ]
    }
   ],
   "source": [
    "d = d_func(1000)\n",
    "print ('d = {0:.20f}'.format(d))\n",
    "\n",
    "m = m_func(100)\n",
    "print ('m = {0:.20f}\\n'.format(m))\n",
    "\n",
    "d_mult_2 = d * 2\n",
    "print ('2 * d = {0:.20f}'.format(d_mult_2))\n",
    "\n",
    "m_mult_2 = m * 2\n",
    "print ('2 * m = {0:.20f}'.format(m_mult_2))\n",
    "\n",
    "d_add_m = d + m\n",
    "print ('d + m = {0:.20f}'.format(d_add_m))\n",
    "\n",
    "d_sub_m = d - m\n",
    "print ('d - m = {0:.20f}'.format(d_sub_m))\n",
    "\n",
    "d_mult_m = d*m\n",
    "print ('d * m = {0:.20f}'.format(d_mult_m))\n",
    "\n",
    "d_div_m = d/m\n",
    "print ('d / m = {0:.20f}'.format(d_div_m))\n",
    "\n",
    "m_div_d = m/d\n",
    "print ('m / d = {0:.20f}\\n'.format(m_div_d))\n",
    "\n",
    "dpi = d*np.pi\n",
    "print ('d * pi = {0:.20f}'.format(dpi))\n",
    "\n",
    "de = d*np.e\n",
    "print ('d * e = {0:.20f}'.format(de))\n",
    "\n",
    "mpi = m*np.pi\n",
    "print ('m * pi = {0:.20f}'.format(mpi))\n",
    "\n",
    "me = m*np.e\n",
    "print ('m * e = {0:.20f}'.format(me))"
   ]
  },
  {
   "cell_type": "code",
   "execution_count": 160,
   "metadata": {},
   "outputs": [
    {
     "data": {
      "text/plain": [
       "3.141592653589793"
      ]
     },
     "execution_count": 160,
     "metadata": {},
     "output_type": "execute_result"
    }
   ],
   "source": [
    "np.pi"
   ]
  },
  {
   "cell_type": "code",
   "execution_count": 162,
   "metadata": {},
   "outputs": [
    {
     "data": {
      "text/plain": [
       "2.718281828459045"
      ]
     },
     "execution_count": 162,
     "metadata": {},
     "output_type": "execute_result"
    }
   ],
   "source": [
    "np.e"
   ]
  },
  {
   "cell_type": "code",
   "execution_count": 191,
   "metadata": {},
   "outputs": [
    {
     "data": {
      "text/plain": [
       "0.423310825130748"
      ]
     },
     "execution_count": 191,
     "metadata": {},
     "output_type": "execute_result"
    }
   ],
   "source": [
    "np.pi - np.e"
   ]
  },
  {
   "cell_type": "code",
   "execution_count": 207,
   "metadata": {},
   "outputs": [
    {
     "data": {
      "text/plain": [
       "0.686189327355233"
      ]
     },
     "execution_count": 207,
     "metadata": {},
     "output_type": "execute_result"
    }
   ],
   "source": [
    "(np.e+np.pi)/(np.pi*np.e)"
   ]
  }
 ],
 "metadata": {
  "kernelspec": {
   "display_name": "Python [conda root]",
   "language": "python",
   "name": "conda-root-py"
  },
  "language_info": {
   "codemirror_mode": {
    "name": "ipython",
    "version": 3
   },
   "file_extension": ".py",
   "mimetype": "text/x-python",
   "name": "python",
   "nbconvert_exporter": "python",
   "pygments_lexer": "ipython3",
   "version": "3.6.1"
  }
 },
 "nbformat": 4,
 "nbformat_minor": 2
}
